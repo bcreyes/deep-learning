{
  "nbformat": 4,
  "nbformat_minor": 0,
  "metadata": {
    "colab": {
      "provenance": [],
      "gpuType": "T4",
      "include_colab_link": true
    },
    "kernelspec": {
      "name": "python3",
      "display_name": "Python 3"
    },
    "language_info": {
      "name": "python"
    },
    "accelerator": "GPU"
  },
  "cells": [
    {
      "cell_type": "markdown",
      "metadata": {
        "id": "view-in-github",
        "colab_type": "text"
      },
      "source": [
        "<a href=\"https://colab.research.google.com/github/bcreyes/deep-learning/blob/main/Homework_4.ipynb\" target=\"_parent\"><img src=\"https://colab.research.google.com/assets/colab-badge.svg\" alt=\"Open In Colab\"/></a>"
      ]
    },
    {
      "cell_type": "markdown",
      "source": [
        "## Tips\n",
        "- Modify files by opening/editing them in the UI (double-click to open).\n",
        "- `Right click > Refresh` in the Colab file explorer to update the directory.\n",
        "- All files are lost when the Colab session disconnects, so make sure back up your work.\n",
        "- Do **not** use `drive.mount` for your datasets! Reading from GDrive is super slow.\n",
        "- Instead, place datasets into the `/content/` folder and modify your data accordingly.\n",
        "\n",
        "Make a copy of this notebook and feel free to modify this to however you like!\n",
        "\n",
        "If you have some additional colab tips, please share them on the discussion forum.\n",
        "\n",
        "## Setup\n",
        "\n",
        "First, enable a GPU runtime via `Runtime > Change runtime type > T4 GPU`\n",
        "\n",
        "Next, upload the your project files to the Colab. You can do this by either\n",
        "- using Github (**recommended**)\n",
        "- uploading files manually using the UI\n",
        "\n",
        "## Github Setup\n",
        "\n",
        "You can use git from within Google Colab!\n",
        "\n",
        "For this section, we assume you know how to use git and have already pushed the starter code to a private repo.\n",
        "\n",
        "It's a good idea to structure your repo something like\n",
        "```\n",
        "deep_learning/\n",
        "    homework1/\n",
        "    homework2/\n",
        "    ...\n",
        "```\n",
        "\n",
        "We highly recommend using this workflow as you'll be able to easily pull/commit your changes after modifying your model on Colab.\n",
        "\n",
        "To do this, you'll need a personal access token from [https://github.com/settings/tokens](https://github.com/settings/tokens)\n",
        "\n",
        "The easiest thing to do is select \"classic\" token and make sure you have the `repo` scope selected to allow access to your private repos.\n",
        "There's also fine-grained tokens where you can select access to specific repos.\n",
        "\n",
        "Once you have your token, fill in your information and then run the following.\n",
        "\n"
      ],
      "metadata": {
        "id": "6zWseivb1lli"
      }
    },
    {
      "cell_type": "code",
      "source": [],
      "metadata": {
        "id": "o1kxdA3__abk"
      },
      "execution_count": null,
      "outputs": []
    },
    {
      "cell_type": "code",
      "execution_count": null,
      "metadata": {
        "id": "vLC51taXudfJ"
      },
      "outputs": [],
      "source": [
        "import os\n",
        "\n",
        "\n",
        "os.environ['USER'] = 'bradyz'\n",
        "os.environ['REPO'] = 'online_deep_learning'\n",
        "os.environ['TOKEN'] = 'mYseCretToKEn'\n",
        "\n",
        "# do everything in colab's \"root\" directory\n",
        "%cd /content\n",
        "!git clone https://${TOKEN}@github.com/${USER}/${REPO}.git\n",
        "\n",
        "# make sure your repo shows up\n",
        "%ls"
      ]
    },
    {
      "cell_type": "markdown",
      "source": [
        "## More Setup"
      ],
      "metadata": {
        "id": "Gxzo13BN6FL0"
      }
    },
    {
      "cell_type": "code",
      "source": [
        "# navigate to your repo\n",
        "%cd /content/{os.environ['REPO']}\n",
        "%ls\n",
        "\n",
        "# go to a specific homework\n",
        "%cd homework4\n",
        "%ls\n"
      ],
      "metadata": {
        "id": "et3KFSXs3IHk"
      },
      "execution_count": null,
      "outputs": []
    },
    {
      "cell_type": "markdown",
      "source": [
        "## Dataset Setup\n",
        "\n",
        "Now that your code is all ready, the next step is to download the datasets."
      ],
      "metadata": {
        "id": "BnjXUhBY7x_E"
      }
    },
    {
      "cell_type": "code",
      "source": [
        "!rm -rf drive_data\n",
        "!curl -s -L https://www.cs.utexas.edu/~bzhou/dl_class/drive_data.zip -o ./drive_data.zip && unzip -qo drive_data.zip\n",
        "%ls"
      ],
      "metadata": {
        "id": "RmMw_Zoa8Ljm"
      },
      "execution_count": null,
      "outputs": []
    },
    {
      "cell_type": "markdown",
      "source": [
        "## Model Implementation + Training\n",
        "\n",
        "Now you should be all set up.\n",
        "Next, you'll need to implement\n",
        "- `homework/train_planner.py`\n",
        "- `homework/models.py`\n",
        "\n",
        "And then you're ready to train"
      ],
      "metadata": {
        "id": "QUR0D6BsJP49"
      }
    },
    {
      "cell_type": "code",
      "source": [
        "# refreshes python imports automatically when you edit the source file\n",
        "%load_ext autoreload\n",
        "%autoreload 2\n",
        "\n",
        "# make sure you're in the right directory\n",
        "%pwd\n",
        "\n",
        "from homework.train_planner import train\n",
        "\n",
        "\n",
        "# your training args don't have to look like this\n",
        "# this is just how it's structured in the solution\n",
        "train(\n",
        "    model_name=\"linear_planner\",\n",
        "    transform_pipeline=\"state_only\",\n",
        "    num_workers=4,\n",
        "    lr=1e-4,\n",
        "    batch_size=128,\n",
        "    num_epoch=40,\n",
        ")"
      ],
      "metadata": {
        "id": "WLe2Ti0xJeIL"
      },
      "execution_count": null,
      "outputs": []
    },
    {
      "cell_type": "markdown",
      "source": [
        "## Grader\n",
        "\n",
        "Run the following cell to grade your homework.\n",
        "\n",
        "Note: if you don't set up PySuperTuxKart, the grader will not run the driving tests."
      ],
      "metadata": {
        "id": "WODRADDO02Hd"
      }
    },
    {
      "cell_type": "code",
      "source": [
        "!python3 -m grader homework -vv --disable_color"
      ],
      "metadata": {
        "id": "-ijkV65Bvpaj"
      },
      "execution_count": null,
      "outputs": []
    },
    {
      "cell_type": "markdown",
      "source": [
        "## PySuperTuxKart Setup (Optional)"
      ],
      "metadata": {
        "id": "ETsTM1gF1dEf"
      }
    },
    {
      "cell_type": "code",
      "source": [
        "# don't worry about the \"... is not a symbolic link\" logs\n",
        "!sudo DEBIAN_FRONTEND=noninteractive apt install -qq libnvidia-gl-535\n",
        "!pip install PySuperTuxKartData --index-url=https://www.cs.utexas.edu/~bzhou/dl_class/pystk\n",
        "!pip install PySuperTuxKart --index-url=https://www.cs.utexas.edu/~bzhou/dl_class/pystk"
      ],
      "metadata": {
        "id": "aMaRKXb9a9er"
      },
      "execution_count": null,
      "outputs": []
    },
    {
      "cell_type": "markdown",
      "source": [
        "## End to End Driving Visualization\n",
        "\n",
        "After your models are trained, you can see how they perform in game!\n",
        "\n",
        "Some of the driving might look \"jittery\", due to the simple logic of the controller (directly steer towards the predicted waypoints).\n",
        "\n",
        "You can always tweak the controller for fun, but note that we will use the original one for grading."
      ],
      "metadata": {
        "id": "jBroVMqYj_9b"
      }
    },
    {
      "cell_type": "code",
      "source": [
        "# This script will simply run your model and save the session as a video\n",
        "!python3 -m homework.supertux_utils.evaluate --model mlp_planner --track lighthouse --max-steps 100"
      ],
      "metadata": {
        "id": "0KHa6JDIT5GP"
      },
      "execution_count": null,
      "outputs": []
    },
    {
      "cell_type": "code",
      "source": [
        "# This cell displays the videos\n",
        "from IPython.display import Video\n",
        "from pathlib import Path\n",
        "\n",
        "\n",
        "video_dir = Path(\"videos\")\n",
        "\n",
        "for video_path in sorted(video_dir.glob(\"*.mp4\")):\n",
        "    print(video_path)\n",
        "    display(Video(video_path, embed=True))"
      ],
      "metadata": {
        "id": "xtHZkEP8UxQF"
      },
      "execution_count": null,
      "outputs": []
    },
    {
      "cell_type": "markdown",
      "source": [
        "## Update your changes\n"
      ],
      "metadata": {
        "id": "oiCe-RX-J6CF"
      }
    },
    {
      "cell_type": "code",
      "source": [
        "%ls\n",
        "!git status\n",
        "\n",
        "# Be careful not to \"git add *\" since there are datasets and logs\n",
        "!git add homework/*.py\n",
        "!git config --global user.email \"GITHUB_EMAIL\"\n",
        "!git config --global user.name \"GITHUB_USER\"\n",
        "!git commit -m \"update\"\n",
        "!git push origin main"
      ],
      "metadata": {
        "id": "eMF7LKEoldcx"
      },
      "execution_count": null,
      "outputs": []
    },
    {
      "cell_type": "markdown",
      "source": [
        "## Submission\n",
        "\n",
        "Run the following cell to bundle your submission (modify UTID accordingly).\n",
        "\n",
        "If you notice that your bundle is too large, you can modify the `bundle.py` script and ignore large files by adding them manually to `BLACKLIST`.\n",
        "\n",
        "After the bundler and grader run, right click and download your bundled `.zip` file from the Colab UI.\n"
      ],
      "metadata": {
        "id": "OxbPtnF55AMU"
      }
    },
    {
      "cell_type": "code",
      "source": [
        "!python3 bundle.py homework UTID\n",
        "\n",
        "# optional: run the grader with your bundled homework to double check\n",
        "!python3 -m grader UTID.zip -vv --disable_color"
      ],
      "metadata": {
        "id": "M07WA1Os4Xxh"
      },
      "execution_count": null,
      "outputs": []
    },
    {
      "cell_type": "markdown",
      "source": [
        "## Tensorboard (Optional)"
      ],
      "metadata": {
        "id": "glE1RHxE30_u"
      }
    },
    {
      "cell_type": "code",
      "source": [
        "%load_ext tensorboard\n",
        "%tensorboard --logdir logs"
      ],
      "metadata": {
        "id": "wRWuQIERv6hz"
      },
      "execution_count": null,
      "outputs": []
    }
  ]
}